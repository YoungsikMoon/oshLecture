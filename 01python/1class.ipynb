{
 "cells": [
  {
   "cell_type": "code",
   "execution_count": 2,
   "metadata": {},
   "outputs": [
    {
     "name": "stdout",
     "output_type": "stream",
     "text": [
      "모듈이지롱\n"
     ]
    }
   ],
   "source": [
    "import oshmodule"
   ]
  },
  {
   "cell_type": "code",
   "execution_count": 3,
   "metadata": {},
   "outputs": [
    {
     "name": "stdout",
     "output_type": "stream",
     "text": [
      "이건 함수, 들어온 값 : 1\n"
     ]
    }
   ],
   "source": [
    "oshmodule.test(1)"
   ]
  },
  {
   "cell_type": "code",
   "execution_count": 4,
   "metadata": {},
   "outputs": [
    {
     "data": {
      "text/plain": [
       "'신기하죠'"
      ]
     },
     "execution_count": 4,
     "metadata": {},
     "output_type": "execute_result"
    }
   ],
   "source": [
    "obj = oshmodule.한국어도된다()\n",
    "obj.msg"
   ]
  },
  {
   "cell_type": "code",
   "execution_count": 1,
   "metadata": {},
   "outputs": [
    {
     "name": "stdout",
     "output_type": "stream",
     "text": [
      "/home/alpaco/mys/oshLecture/01python\n"
     ]
    }
   ],
   "source": [
    "%cd /home/alpaco/mys/oshLecture/01python"
   ]
  },
  {
   "cell_type": "code",
   "execution_count": 16,
   "metadata": {},
   "outputs": [
    {
     "name": "stdout",
     "output_type": "stream",
     "text": [
      "[Errno 2] No such file or directory: 'mys/oshLecture/01python'\n",
      "/home/alpaco/mys/oshLecture/01python\n",
      "안녕하세요\n",
      "0.001\n"
     ]
    }
   ],
   "source": [
    "!python oshmodule2.py -m \"안녕하세요\" -l 0.001"
   ]
  },
  {
   "cell_type": "code",
   "execution_count": 6,
   "metadata": {},
   "outputs": [
    {
     "name": "stdout",
     "output_type": "stream",
     "text": [
      "문영식\n",
      "30\n"
     ]
    }
   ],
   "source": [
    "!python mysmodule.py -n \"문영식\" -o 30"
   ]
  },
  {
   "cell_type": "code",
   "execution_count": 1,
   "metadata": {},
   "outputs": [
    {
     "name": "stdout",
     "output_type": "stream",
     "text": [
      "/home/alpaco/mys/oshLecture/01python\n",
      "3.5\n",
      "The version of this game is 3.5.\n"
     ]
    }
   ],
   "source": [
    "%cd /home/alpaco/mys/oshLecture/01python/\n",
    "import game\n",
    "\n",
    "print(game.VERSION) # 안되면 커널 재 시작\n",
    "game.print_version_Info()"
   ]
  },
  {
   "cell_type": "code",
   "execution_count": 2,
   "metadata": {},
   "outputs": [
    {
     "name": "stdout",
     "output_type": "stream",
     "text": [
      "/home/alpaco/mys/oshLecture/01python\n",
      "3.5\n",
      "The version of this game is 3.5.\n",
      "render\n"
     ]
    }
   ],
   "source": [
    "%cd /home/alpaco/mys/oshLecture/01python/\n",
    "import game\n",
    "\n",
    "print(game.VERSION) # 안되면 커널 재 시작\n",
    "game.print_version_Info()\n",
    "\n",
    "game.render_test()"
   ]
  },
  {
   "cell_type": "code",
   "execution_count": 1,
   "metadata": {},
   "outputs": [
    {
     "name": "stdout",
     "output_type": "stream",
     "text": [
      "echo\n"
     ]
    }
   ],
   "source": [
    "from game.sound import *\n",
    "echo.echo_test()"
   ]
  },
  {
   "cell_type": "code",
   "execution_count": 6,
   "metadata": {},
   "outputs": [
    {
     "name": "stdout",
     "output_type": "stream",
     "text": [
      "/home/alpaco/mys/oshLecture/01python/game\n"
     ]
    }
   ],
   "source": [
    "%cd /home/alpaco/mys/oshLecture/01python/game\n",
    "import mod1"
   ]
  },
  {
   "cell_type": "code",
   "execution_count": 7,
   "metadata": {},
   "outputs": [
    {
     "name": "stdout",
     "output_type": "stream",
     "text": [
      "/home/alpaco/mys/oshLecture/01python/game\n",
      "5\n",
      "2\n"
     ]
    }
   ],
   "source": [
    "%cd /home/alpaco/mys/oshLecture/01python/game\n",
    "!python mod1.py"
   ]
  }
 ],
 "metadata": {
  "kernelspec": {
   "display_name": "oshLecture",
   "language": "python",
   "name": "python3"
  },
  "language_info": {
   "codemirror_mode": {
    "name": "ipython",
    "version": 3
   },
   "file_extension": ".py",
   "mimetype": "text/x-python",
   "name": "python",
   "nbconvert_exporter": "python",
   "pygments_lexer": "ipython3",
   "version": "3.10.13"
  }
 },
 "nbformat": 4,
 "nbformat_minor": 2
}
