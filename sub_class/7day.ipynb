{
 "cells": [
  {
   "cell_type": "markdown",
   "metadata": {},
   "source": [
    "# 6day 숙제"
   ]
  },
  {
   "cell_type": "code",
   "execution_count": null,
   "metadata": {},
   "outputs": [],
   "source": [
    "import torch\n",
    "import torch.nn as nn\n",
    "import torch.nn.functional as F\n",
    "import torch.optim as optim\n",
    "\n",
    "torch.manual_seed(1)\n",
    "# 전일종가, 당일저가, 당일고가, 앤비디아주가\n",
    "BITCOIN = [82043000, 81351000, 83825000, 181939]\n",
    "SOLANA = [196800, 196300, 205800, 181939]\n",
    "DOZICOIN = [152, 150, 156, 181939]\n",
    "RIPPLE = [610, 608, 622, 181939]\n",
    "PEPECOIN = [0.02, 0.02, 0.02, 181939]\n",
    "\n",
    "x_train = torch.FloatTensor([[BITCOIN],[SOLANA],[DOZICOIN],[RIPPLE],[PEPECOIN]])\n",
    "y_train = torch.FloatTensor([[82601000], [202200], [153], [621], [0.02]])\n",
    "\n",
    "\n",
    "W = torch.zeros(4, requires_grad=True)\n",
    "b = torch.zeros(1, requires_grad=True)\n",
    "\n",
    "optimizer = optim.SGD([W, b], lr=0.01)\n",
    "\n",
    "epochs = 100\n",
    "for epoch in range(epochs + 1):\n",
    "    optimizer.zero_grad()\n",
    "    # 선형회귀 모델\n",
    "    predict = x_train * W + b\n",
    "    # cost 계산 (Mean Square Error)\n",
    "    cost = torch.mean((predict - y_train) ** 2)\n",
    "    # cost로 모델 개선\n",
    "    cost.backward() # cost를 기반으로 미분 계산\n",
    "    optimizer.step() # 오차역전파법 실행\n",
    "    # 100번마다 로그 출력\n",
    "    if epoch % 100 == 0:\n",
    "        print(\n",
    "            f'Epoch {epoch:4d}/{epochs} W: {W[0]}, {W[1]}, {W[2]} {W[3]} b: {b.item():.3f} Cost: {cost.item():.6f}'\n",
    "            )\n",
    "\n"
   ]
  },
  {
   "cell_type": "markdown",
   "metadata": {},
   "source": [
    "# 7day 숙제"
   ]
  },
  {
   "cell_type": "markdown",
   "metadata": {},
   "source": [
    "저번 숙제는 아래 데이터를 직접 수집해서 파이토치 기반 선형회귀 모델을 학습하는 거였습니다.\n",
    "\n",
    "비트코인, 솔라나, 도지코인 ,리플 ,페페코인\n",
    "\n",
    "현재가(Y) 해당코인전일가(X1) 해당코인저가(X2) 해당코인고가(X3)  NVIDIA현재주가(X4)\n",
    "\n",
    "이번에는 저 데이터를 그냥 넣지 않고 RobustScaler를 가지고 전처리를 한 후 넣는 방법을 모색해보시길 바랍니다.\n",
    "\n",
    "데이터를 미니배치사이즈 2로 만들어서 학습하는걸로 코드를 짜와주세요.\n",
    "\n",
    "이번에는 챗지피티를 허용합니다. 다만 각 줄 주석을 달아와주시길 바랍니다.\n",
    "\n",
    "다음 주 월요일 서브클래스 시간에 리뷰 및 MLP 수업 나가도록 하겠습니다."
   ]
  },
  {
   "cell_type": "code",
   "execution_count": null,
   "metadata": {},
   "outputs": [],
   "source": []
  }
 ],
 "metadata": {
  "kernelspec": {
   "display_name": "oshLecture",
   "language": "python",
   "name": "python3"
  },
  "language_info": {
   "codemirror_mode": {
    "name": "ipython",
    "version": 3
   },
   "file_extension": ".py",
   "mimetype": "text/x-python",
   "name": "python",
   "nbconvert_exporter": "python",
   "pygments_lexer": "ipython3",
   "version": "3.10.14"
  }
 },
 "nbformat": 4,
 "nbformat_minor": 2
}
