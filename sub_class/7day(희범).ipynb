{
  "nbformat": 4,
  "nbformat_minor": 0,
  "metadata": {
    "colab": {
      "provenance": []
    },
    "kernelspec": {
      "name": "python3",
      "display_name": "Python 3"
    },
    "language_info": {
      "name": "python"
    }
  },
  "cells": [
    {
      "cell_type": "code",
      "execution_count": 46,
      "metadata": {
        "id": "IDkL5LltAPdU"
      },
      "outputs": [],
      "source": [
        "import torch # 딥러닝 프레임워크 파이토치 불러오기\n",
        "import torch.nn as nn # 다양한 레이어, 활성화 함수,\n",
        "import torch.nn.functional as F # F: PyTorch의 torch.nn.functional 모듈의 약칭\n",
        "import torch.optim as optim # 최적화 알고리즘들이 담겨있는 모듈"
      ]
    },
    {
      "cell_type": "code",
      "source": [
        "from torch.utils.data import TensorDataset # 텐서데이터셋\n",
        "from torch.utils.data import DataLoader # 데이터로더"
      ],
      "metadata": {
        "id": "f5tzunmJ5sAW"
      },
      "execution_count": 47,
      "outputs": []
    },
    {
      "cell_type": "code",
      "source": [
        "bitcoin = [82043000, 81351000, 83825000, 181939]\n",
        "solana = [196800, 196300, 205800, 181939]\n",
        "dogicoin = [152, 150, 156, 181939]\n",
        "ripple = [610, 608, 622, 181939]\n",
        "pepecoin = [0.02, 0.02, 0.02, 181939]\n",
        "x_train = torch.FloatTensor([bitcoin,\n",
        "                             solana,\n",
        "                             dogicoin,\n",
        "                             ripple,\n",
        "                             pepecoin,])\n",
        "y_train = torch.FloatTensor([[82601000],\n",
        "                              [202200],\n",
        "                              [153],\n",
        "                              [621],\n",
        "                              [0.02],])"
      ],
      "metadata": {
        "id": "0wQdimMcAhvn"
      },
      "execution_count": 48,
      "outputs": []
    },
    {
      "cell_type": "code",
      "source": [
        "print(x_train)\n",
        "print(x_train.shape)\n",
        "print(y_train.shape)"
      ],
      "metadata": {
        "colab": {
          "base_uri": "https://localhost:8080/"
        },
        "id": "X6tIp6N4GSqh",
        "outputId": "d05b5dcf-e9fb-4706-8881-344e94d253a0"
      },
      "execution_count": 49,
      "outputs": [
        {
          "output_type": "stream",
          "name": "stdout",
          "text": [
            "tensor([[8.2043e+07, 8.1351e+07, 8.3825e+07, 1.8194e+05],\n",
            "        [1.9680e+05, 1.9630e+05, 2.0580e+05, 1.8194e+05],\n",
            "        [1.5200e+02, 1.5000e+02, 1.5600e+02, 1.8194e+05],\n",
            "        [6.1000e+02, 6.0800e+02, 6.2200e+02, 1.8194e+05],\n",
            "        [2.0000e-02, 2.0000e-02, 2.0000e-02, 1.8194e+05]])\n",
            "torch.Size([5, 4])\n",
            "torch.Size([5, 1])\n"
          ]
        }
      ]
    },
    {
      "cell_type": "code",
      "source": [
        "from sklearn.preprocessing import RobustScaler\n",
        "\n",
        "rs = RobustScaler()\n",
        "\n",
        "x_train_scaled = rs.fit_transform(x_train)\n",
        "y_train_scaled = rs.fit_transform(y_train)\n",
        "\n",
        "x_train_scaled = torch.FloatTensor(x_train_scaled)\n",
        "y_train_scaled = torch.FloatTensor(y_train_scaled)\n",
        "\n",
        "print(x_train_scaled)\n",
        "print(y_train_scaled)"
      ],
      "metadata": {
        "colab": {
          "base_uri": "https://localhost:8080/"
        },
        "id": "vaybF8jXK5sU",
        "outputId": "87d86df9-4690-480a-ade6-2a23a33d6815"
      },
      "execution_count": 50,
      "outputs": [
        {
          "output_type": "stream",
          "name": "stdout",
          "text": [
            "tensor([[ 4.1720e+02,  4.1474e+02,  4.0762e+02,  0.0000e+00],\n",
            "        [ 9.9767e-01,  9.9767e-01,  9.9773e-01,  0.0000e+00],\n",
            "        [-2.3290e-03, -2.3349e-03, -2.2661e-03,  0.0000e+00],\n",
            "        [ 0.0000e+00,  0.0000e+00,  0.0000e+00,  0.0000e+00],\n",
            "        [-3.1019e-03, -3.0996e-03, -3.0245e-03,  0.0000e+00]])\n",
            "tensor([[ 4.0882e+02],\n",
            "        [ 9.9768e-01],\n",
            "        [-2.3163e-03],\n",
            "        [ 0.0000e+00],\n",
            "        [-3.0734e-03]])\n"
          ]
        }
      ]
    },
    {
      "cell_type": "code",
      "source": [
        "dataset = TensorDataset(x_train_scaled, y_train_scaled) # x_train_scaled, y_train_scaled을 하나의 데이터셋으로 만듦"
      ],
      "metadata": {
        "id": "Y_qEQod051LN"
      },
      "execution_count": 58,
      "outputs": []
    },
    {
      "cell_type": "code",
      "source": [
        "dataloader = DataLoader(dataset, batch_size=2, shuffle=True,  drop_last=False) # data loader 데이터셋을 반복 가능한 형태로 만듦 / drop_last=False: 마지막 배치를 버리지 않음"
      ],
      "metadata": {
        "id": "3o8UGky15-_r"
      },
      "execution_count": 59,
      "outputs": []
    },
    {
      "cell_type": "code",
      "source": [
        "model = nn.Linear(4,1) # 입력 텐서에 대해 선형 변환 수행 / y= w1x1 + w2x2 + w3x3 + w4x4 + b / 4는 입력텐서가 4개의 feature를 가지며, 1은 출력텐서가 1개의 출력 feature를 가짐"
      ],
      "metadata": {
        "id": "PWHWcj4n6IsM"
      },
      "execution_count": 56,
      "outputs": []
    },
    {
      "cell_type": "code",
      "source": [
        "print(list(model.parameters())) # 4개의 weight와 1개의 b가 들어있음을 확인"
      ],
      "metadata": {
        "colab": {
          "base_uri": "https://localhost:8080/"
        },
        "id": "Ia2hHuot6b8N",
        "outputId": "cc76011b-ad8d-4fcd-f7a0-68d1d961dacf"
      },
      "execution_count": 54,
      "outputs": [
        {
          "output_type": "stream",
          "name": "stdout",
          "text": [
            "[Parameter containing:\n",
            "tensor([[ 0.4548, -0.4999, -0.4278, -0.1634]], requires_grad=True), Parameter containing:\n",
            "tensor([0.1316], requires_grad=True)]\n"
          ]
        }
      ]
    },
    {
      "cell_type": "code",
      "source": [
        "optimizer = torch.optim.SGD(model.parameters(), lr=1e-5) # 모델 파라미터에 대해 확률적 경사하강법과 learning rate 적용"
      ],
      "metadata": {
        "id": "4vC641Tu_ST-"
      },
      "execution_count": 57,
      "outputs": []
    },
    {
      "cell_type": "code",
      "source": [
        "epochs = 5\n",
        "for epoch in range(epochs + 1):\n",
        "  for batch_idx, samples in enumerate(dataloader):\n",
        "    optimizer.zero_grad() # 기울기 초기화\n",
        "\n",
        "    x_train_scaled, y_train_scaled = samples # data loader에서 받아온 x, y train 값을 samples에서 할당\n",
        "    pred = model(x_train_scaled) # 모델 예측\n",
        "\n",
        "    print(x_train_scaled)\n",
        "    print(y_train_scaled)\n",
        "\n",
        "    cost = F.mse_loss(pred, y_train_scaled) # 예측 값과 실제 값 사이의 평균 제곱 오차를 계산\n",
        "\n",
        "    cost.backward() # 비용 함수를 미분하여 gradient 계산\n",
        "    optimizer.step() # W와 b를 업데이트\n",
        "\n",
        "    print('Epoch {:4d}/{} Batch {}/{} Cost: {:.6f}'.format(\n",
        "        epoch, epochs, batch_idx+1, len(dataloader),\n",
        "        cost.item()\n",
        "        )) # Epoch 전체 에포크 수 표시, Batch 배치 번호 표시"
      ],
      "metadata": {
        "colab": {
          "base_uri": "https://localhost:8080/"
        },
        "id": "CIK8cSLW61pM",
        "outputId": "1b46d583-c8c1-4ddb-db0f-225b3cf0aeea"
      },
      "execution_count": 55,
      "outputs": [
        {
          "output_type": "stream",
          "name": "stdout",
          "text": [
            "tensor([[  0.0000,   0.0000,   0.0000,   0.0000],\n",
            "        [417.2043, 414.7356, 407.6189,   0.0000]])\n",
            "tensor([[  0.0000],\n",
            "        [408.8177]])\n",
            "Epoch    0/5 Batch 1/3 Cost: 180378.546875\n",
            "tensor([[-0.0023, -0.0023, -0.0023,  0.0000],\n",
            "        [-0.0031, -0.0031, -0.0030,  0.0000]])\n",
            "tensor([[-0.0023],\n",
            "        [-0.0031]])\n",
            "Epoch    0/5 Batch 2/3 Cost: 0.014772\n",
            "tensor([[0.9977, 0.9977, 0.9977, 0.0000]])\n",
            "tensor([[0.9977]])\n",
            "Epoch    0/5 Batch 3/3 Cost: 37.162655\n",
            "tensor([[ 0.0000,  0.0000,  0.0000,  0.0000],\n",
            "        [-0.0023, -0.0023, -0.0023,  0.0000]])\n",
            "tensor([[ 0.0000],\n",
            "        [-0.0023]])\n",
            "Epoch    1/5 Batch 1/3 Cost: 0.017102\n",
            "tensor([[ 0.9977,  0.9977,  0.9977,  0.0000],\n",
            "        [-0.0031, -0.0031, -0.0030,  0.0000]])\n",
            "tensor([[ 0.9977],\n",
            "        [-0.0031]])\n",
            "Epoch    1/5 Batch 2/3 Cost: 18.585440\n",
            "tensor([[417.2043, 414.7356, 407.6189,   0.0000]])\n",
            "tensor([[408.8177]])\n",
            "Epoch    1/5 Batch 3/3 Cost: 6129033.500000\n",
            "tensor([[-0.0023, -0.0023, -0.0023,  0.0000],\n",
            "        [-0.0031, -0.0031, -0.0030,  0.0000]])\n",
            "tensor([[-0.0023],\n",
            "        [-0.0031]])\n",
            "Epoch    2/5 Batch 1/3 Cost: 0.056665\n",
            "tensor([[  0.9977,   0.9977,   0.9977,   0.0000],\n",
            "        [417.2043, 414.7356, 407.6189,   0.0000]])\n",
            "tensor([[  0.9977],\n",
            "        [408.8177]])\n",
            "Epoch    2/5 Batch 2/3 Cost: 261890928.000000\n",
            "tensor([[0., 0., 0., 0.]])\n",
            "tensor([[0.]])\n",
            "Epoch    2/5 Batch 3/3 Cost: 0.100695\n",
            "tensor([[0.0000, 0.0000, 0.0000, 0.0000],\n",
            "        [0.9977, 0.9977, 0.9977, 0.0000]])\n",
            "tensor([[0.0000],\n",
            "        [0.9977]])\n",
            "Epoch    3/5 Batch 1/3 Cost: 26009.423828\n",
            "tensor([[ 4.1720e+02,  4.1474e+02,  4.0762e+02,  0.0000e+00],\n",
            "        [-3.1019e-03, -3.0996e-03, -3.0245e-03,  0.0000e+00]])\n",
            "tensor([[ 4.0882e+02],\n",
            "        [-3.0734e-03]])\n",
            "Epoch    3/5 Batch 2/3 Cost: 4449945600.000000\n",
            "tensor([[-0.0023, -0.0023, -0.0023,  0.0000]])\n",
            "tensor([[-0.0023]])\n",
            "Epoch    3/5 Batch 3/3 Cost: 2.389764\n",
            "tensor([[-0.0023, -0.0023, -0.0023,  0.0000],\n",
            "        [ 0.9977,  0.9977,  0.9977,  0.0000]])\n",
            "tensor([[-0.0023],\n",
            "        [ 0.9977]])\n",
            "Epoch    4/5 Batch 1/3 Cost: 441392.281250\n",
            "tensor([[-0.0031, -0.0031, -0.0030,  0.0000],\n",
            "        [ 0.0000,  0.0000,  0.0000,  0.0000]])\n",
            "tensor([[-0.0031],\n",
            "        [ 0.0000]])\n",
            "Epoch    4/5 Batch 2/3 Cost: 2.780394\n",
            "tensor([[417.2043, 414.7356, 407.6189,   0.0000]])\n",
            "tensor([[408.8177]])\n",
            "Epoch    4/5 Batch 3/3 Cost: 151222059008.000000\n",
            "tensor([[  0.9977,   0.9977,   0.9977,   0.0000],\n",
            "        [417.2043, 414.7356, 407.6189,   0.0000]])\n",
            "tensor([[  0.9977],\n",
            "        [408.8177]])\n",
            "Epoch    5/5 Batch 1/3 Cost: 6461654040576.000000\n",
            "tensor([[ 0.0000,  0.0000,  0.0000,  0.0000],\n",
            "        [-0.0031, -0.0031, -0.0030,  0.0000]])\n",
            "tensor([[ 0.0000],\n",
            "        [-0.0031]])\n",
            "Epoch    5/5 Batch 2/3 Cost: 3731.646240\n",
            "tensor([[-0.0023, -0.0023, -0.0023,  0.0000]])\n",
            "tensor([[-0.0023]])\n",
            "Epoch    5/5 Batch 3/3 Cost: 2913.086670\n"
          ]
        }
      ]
    }
  ]
}