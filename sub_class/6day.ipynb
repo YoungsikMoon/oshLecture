{
 "cells": [
  {
   "cell_type": "markdown",
   "metadata": {},
   "source": [
    "# 파이토치 딥러닝"
   ]
  },
  {
   "cell_type": "markdown",
   "metadata": {
    "vscode": {
     "languageId": "plaintext"
    }
   },
   "source": [
    "## 선형회귀로 대략적인 구조 파악"
   ]
  },
  {
   "cell_type": "markdown",
   "metadata": {
    "vscode": {
     "languageId": "plaintext"
    }
   },
   "source": [
    "1. regression : y=wx+b 라고 할 때 y가 종속변수, x 독립변수\n",
    "    1) 인과성\n",
    "    2) 연관성\n",
    "    \n",
    "    삼성종가 = w1 * 거래금액 + w2 * 공포지수 + w3 * 감가상각비 + b\n",
    "\n",
    "2. curve fitting : 데이터의 패턴을 수학적 모델에 잘 입히는게 관점"
   ]
  },
  {
   "cell_type": "code",
   "execution_count": null,
   "metadata": {},
   "outputs": [],
   "source": [
    "# 사람 5명이고 feature(키, 몸무게)가 2개, 정답값이 2개 예측(multi prediction).칼로리, 나이\n",
    "x_train = [[170,65],\n",
    "           [185,70],\n",
    "           [175,63],\n",
    "           [150,40],\n",
    "           [160,50],]\n",
    "\n",
    "y_train = [[1300, 32],\n",
    "           [1550, 22],\n",
    "           [1250, 25],\n",
    "           [1250, 23],\n",
    "           [1450, 40],\n",
    "           ]"
   ]
  },
  {
   "cell_type": "code",
   "execution_count": 3,
   "metadata": {},
   "outputs": [],
   "source": [
    "import torch\n",
    "import torch.nn as nn\n",
    "import torch.nn.functional as F\n",
    "import torch.optim as optim\n",
    "\n",
    "torch.manual_seed(42)\n",
    "\n",
    "x_train = torch.FloatTensor([[1], [2], [3]])\n",
    "y_train = torch.FloatTensor([[2], [4], [6]])"
   ]
  },
  {
   "cell_type": "code",
   "execution_count": 4,
   "metadata": {},
   "outputs": [
    {
     "name": "stdout",
     "output_type": "stream",
     "text": [
      "tensor([[1.],\n",
      "        [2.],\n",
      "        [3.]])\n",
      "torch.Size([3, 1])\n"
     ]
    }
   ],
   "source": [
    "print(x_train)\n",
    "print(x_train.shape)"
   ]
  },
  {
   "cell_type": "code",
   "execution_count": 5,
   "metadata": {},
   "outputs": [
    {
     "name": "stdout",
     "output_type": "stream",
     "text": [
      "tensor([[2.],\n",
      "        [4.],\n",
      "        [6.]])\n",
      "torch.Size([3, 1])\n"
     ]
    }
   ],
   "source": [
    "print(y_train)\n",
    "print(y_train.shape)"
   ]
  },
  {
   "cell_type": "code",
   "execution_count": 7,
   "metadata": {},
   "outputs": [
    {
     "name": "stdout",
     "output_type": "stream",
     "text": [
      "tensor([0.], requires_grad=True)\n"
     ]
    }
   ],
   "source": [
    "W = torch.zeros(1, requires_grad=True)\n",
    "print(W)"
   ]
  },
  {
   "cell_type": "code",
   "execution_count": 8,
   "metadata": {},
   "outputs": [
    {
     "name": "stdout",
     "output_type": "stream",
     "text": [
      "tensor([0.], requires_grad=True)\n"
     ]
    }
   ],
   "source": [
    "b = torch.zeros(1, requires_grad=True)\n",
    "print(b)"
   ]
  },
  {
   "cell_type": "code",
   "execution_count": 9,
   "metadata": {},
   "outputs": [],
   "source": [
    "optimizer = optim.SGD([W, b], lr=0.01) # 아담W보다 스톡캐스틱 쓰는 이유는 속도 때문."
   ]
  },
  {
   "cell_type": "code",
   "execution_count": 19,
   "metadata": {},
   "outputs": [
    {
     "name": "stdout",
     "output_type": "stream",
     "text": [
      "Epoch    0/100 W: 1.941, b: 0.134 Cost: 0.002593\n",
      "Epoch  100/100 W: 1.954, b: 0.105 Cost: 0.001602\n"
     ]
    }
   ],
   "source": [
    "epochs = 100\n",
    "for epoch in range(epochs + 1):\n",
    "    optimizer.zero_grad()\n",
    "    predict = x_train * W + b\n",
    "    cost = torch.mean((predict - y_train)**2)\n",
    "    cost.backward()\n",
    "    optimizer.step()\n",
    "    if epoch % 100 == 0 :\n",
    "        print(f'Epoch {epoch:4d}/{epochs} W: {W.item():.3f}, b: {b.item():.3f} Cost: {cost.item():.6f}')"
   ]
  },
  {
   "cell_type": "markdown",
   "metadata": {},
   "source": [
    "# 실습"
   ]
  },
  {
   "cell_type": "code",
   "execution_count": 105,
   "metadata": {},
   "outputs": [
    {
     "name": "stdout",
     "output_type": "stream",
     "text": [
      "Epoch    0/100 W: 151360704.0, 157725280.0, 151360704.0 b: 3055.000 Cost: 29283258368.000000\n",
      "Epoch  100/100 W: nan, nan, nan b: nan Cost: nan\n"
     ]
    }
   ],
   "source": [
    "\"\"\" \n",
    "\"전일종가, 당일고가, 당일저가 \"로 \"당일주가 예측\"\n",
    "데이터는 아래 7개 직접 전일종가, 당일고가, 당일저가, 당일주가 수집.\n",
    "삼성전자\n",
    "NAVER\n",
    "현대로템\n",
    "LS\n",
    "에코프로\n",
    "현대차\n",
    "SK하이닉스\n",
    "\"\"\"\n",
    "torch.manual_seed(1)\n",
    "\n",
    "SAMSUNG = [87800,88000,87300]\n",
    "NAVER = [170700,176800,169700]\n",
    "HDLT = [29350,42900,39700]\n",
    "LS = [138400,156500,138800]\n",
    "ECOPRO = [101200, 104000, 99500]\n",
    "HDC = [274500,277500,272500]\n",
    "SKH = [238500, 238500, 234000]\n",
    "\n",
    "x_train = torch.FloatTensor([[SAMSUNG], [NAVER], [HDLT], [LS], [ECOPRO], [HDC], [SKH]])\n",
    "y_train = torch.FloatTensor([[87500], [176700], [42450], [152500], [99600], [275500], [235000]])\n",
    "\n",
    "W = torch.zeros(3, requires_grad=True)\n",
    "b = torch.zeros(1, requires_grad=True)\n",
    "\n",
    "optimizer = optim.SGD([W, b], lr=0.01)\n",
    "\n",
    "epochs = 100\n",
    "for epoch in range(epochs + 1):\n",
    "    optimizer.zero_grad()\n",
    "    # 선형회귀 모델\n",
    "    predict = x_train * W + b\n",
    "    # cost 계산 (Mean Square Error)\n",
    "    cost = torch.mean((predict - y_train) ** 2)\n",
    "    # cost로 모델 개선\n",
    "    cost.backward() # cost를 기반으로 미분 계산\n",
    "    optimizer.step() # 오차역전파법 실행\n",
    "    # 100번마다 로그 출력\n",
    "    if epoch % 100 == 0:\n",
    "        print(\n",
    "            f'Epoch {epoch:4d}/{epochs} W: {W[0]}, {W[1]}, {W[0]} b: {b.item():.3f} Cost: {cost.item():.6f}'\n",
    "            )"
   ]
  },
  {
   "cell_type": "markdown",
   "metadata": {},
   "source": [
    "# 6day 숙제 (오답 ㅜㅜ)\n",
    "\n",
    "비트코인, 솔라나, 도지코인, 리플, 페페코인 에 대하여\n",
    "\n",
    "해당코인현재가(Y) 해당코인전일가(X1) 해당코인저가(X2) 해당코인코가(X3) NVIDIA현재주가(X4)"
   ]
  },
  {
   "cell_type": "code",
   "execution_count": null,
   "metadata": {},
   "outputs": [],
   "source": [
    "import torch\n",
    "import torch.nn as nn\n",
    "import torch.nn.functional as F\n",
    "import torch.optim as optim\n",
    "\n",
    "torch.manual_seed(1)\n",
    "# 전일종가, 당일저가, 당일고가, 앤비디아주가\n",
    "BITCOIN = [82043000, 81351000, 83825000, 181939]\n",
    "SOLANA = [196800, 196300, 205800, 181939]\n",
    "DOZICOIN = [152, 150, 156, 181939]\n",
    "RIPPLE = [610, 608, 622, 181939]\n",
    "PEPECOIN = [0.02, 0.02, 0.02, 181939]\n",
    "\n",
    "x_train = torch.FloatTensor([[BITCOIN],[SOLANA],[DOZICOIN],[RIPPLE],[PEPECOIN]])\n",
    "y_train = torch.FloatTensor([[82601000], [202200], [153], [621], [0.02]])\n",
    "\n",
    "\n",
    "W = torch.zeros(4, requires_grad=True)\n",
    "b = torch.zeros(1, requires_grad=True)\n",
    "\n",
    "optimizer = optim.SGD([W, b], lr=0.01)\n",
    "\n",
    "epochs = 100\n",
    "for epoch in range(epochs + 1):\n",
    "    optimizer.zero_grad()\n",
    "    # 선형회귀 모델\n",
    "    predict = x_train * W + b\n",
    "    # cost 계산 (Mean Square Error)\n",
    "    cost = torch.mean((predict - y_train) ** 2)\n",
    "    # cost로 모델 개선\n",
    "    cost.backward() # cost를 기반으로 미분 계산\n",
    "    optimizer.step() # 오차역전파법 실행\n",
    "    # 100번마다 로그 출력\n",
    "    if epoch % 100 == 0:\n",
    "        print(\n",
    "            f'Epoch {epoch:4d}/{epochs} W: {W[0]}, {W[1]}, {W[2]} {W[3]} b: {b.item():.3f} Cost: {cost.item():.6f}'\n",
    "            )\n",
    "\n"
   ]
  }
 ],
 "metadata": {
  "kernelspec": {
   "display_name": "oshLecture",
   "language": "python",
   "name": "python3"
  },
  "language_info": {
   "codemirror_mode": {
    "name": "ipython",
    "version": 3
   },
   "file_extension": ".py",
   "mimetype": "text/x-python",
   "name": "python",
   "nbconvert_exporter": "python",
   "pygments_lexer": "ipython3",
   "version": "3.10.14"
  }
 },
 "nbformat": 4,
 "nbformat_minor": 2
}
